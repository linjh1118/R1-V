{
 "cells": [
  {
   "cell_type": "code",
   "execution_count": 2,
   "metadata": {},
   "outputs": [
    {
     "name": "stdout",
     "output_type": "stream",
     "text": [
      ">>>>> 1. check if the number of results is the same\n",
      "N_single_gpu_res=754, N_multi_gpu_res=754\n",
      "N_single_gpu_res==N_multi_gpu_res=True\n",
      "\n",
      ">>>>> 2. check if the accuracy are the same\n",
      "acc_single_gpu=12.86472148541114, acc_multi_gpu=12.86472148541114\n",
      "acc_single_gpu==acc_multi_gpu=True\n",
      "\n",
      ">>>>> 3. check if the other infos are the same\n",
      "Counter(output_equals)=Counter({True: 754})\n",
      "Counter(is_correct_equals)=Counter({True: 754})\n"
     ]
    }
   ],
   "source": [
    "import pandas as pd\n",
    "from collections import Counter\n",
    "\n",
    "print('>>>>> 1. check if the number of results is the same')\n",
    "single_gpu_res = pd.read_json('./eval/res@checkpoint-10.json')\n",
    "multi_gpu_res = pd.read_json('./eval@single_gpu/res@checkpoint-10.json')\n",
    "N_single_gpu_res, N_multi_gpu_res = single_gpu_res.shape[0], multi_gpu_res.shape[0]\n",
    "print(f'{N_single_gpu_res=}, {N_multi_gpu_res=}')\n",
    "print(f'{N_single_gpu_res==N_multi_gpu_res=}', end='\\n\\n')\n",
    "\n",
    "print('>>>>> 2. check if the accuracy are the same')\n",
    "acc_single_gpu, acc_multi_gpu = single_gpu_res['accuracy'][0], multi_gpu_res['accuracy'][0]\n",
    "print(f'{acc_single_gpu=}, {acc_multi_gpu=}')\n",
    "print(f'{acc_single_gpu==acc_multi_gpu=}', end='\\n\\n')\n",
    "\n",
    "print('>>>>> 3. check if the other infos are the same')\n",
    "single_gpu_res['model_output'] = single_gpu_res['results'].apply(lambda x: x['model_output'])\n",
    "multi_gpu_res['model_output'] = multi_gpu_res['results'].apply(lambda x: x['model_output'])\n",
    "single_gpu_res['is_correct'] = single_gpu_res['results'].apply(lambda x: x['is_correct'])\n",
    "multi_gpu_res['is_correct'] = multi_gpu_res['results'].apply(lambda x: x['is_correct'])\n",
    "\n",
    "\n",
    "\n",
    "output_equals = (single_gpu_res['model_output']==multi_gpu_res['model_output'])\n",
    "print(f'{Counter(output_equals)=}')\n",
    "\n",
    "is_correct_equals = (single_gpu_res['is_correct']==multi_gpu_res['is_correct'])\n",
    "print(f'{Counter(is_correct_equals)=}')\n"
   ]
  }
 ],
 "metadata": {
  "kernelspec": {
   "display_name": "Python 3",
   "language": "python",
   "name": "python3"
  },
  "language_info": {
   "codemirror_mode": {
    "name": "ipython",
    "version": 3
   },
   "file_extension": ".py",
   "mimetype": "text/x-python",
   "name": "python",
   "nbconvert_exporter": "python",
   "pygments_lexer": "ipython3",
   "version": "3.10.12"
  }
 },
 "nbformat": 4,
 "nbformat_minor": 2
}
